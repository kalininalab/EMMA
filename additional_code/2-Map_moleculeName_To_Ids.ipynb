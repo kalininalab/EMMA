{
 "cells": [
  {
   "cell_type": "code",
   "execution_count": 1,
   "id": "06cf4406-faf9-4039-b29f-7a7d92985de7",
   "metadata": {},
   "outputs": [
    {
     "name": "stdout",
     "output_type": "stream",
     "text": [
      "/Users/vahidatabaigi/SIP2/additional_code\n"
     ]
    }
   ],
   "source": [
    "import xml.etree.ElementTree as ET\n",
    "import requests\n",
    "import warnings\n",
    "import sys\n",
    "import matplotlib.pyplot as plt\n",
    "from requests.adapters import HTTPAdapter\n",
    "from requests.packages.urllib3.util.retry import Retry\n",
    "from os.path import join\n",
    "import os\n",
    "import glob\n",
    "import re\n",
    "import ast\n",
    "import pandas as pd\n",
    "sys.path.append(\"./../utilities\")\n",
    "from helper_functions import *\n",
    "CURRENT_DIR = os.getcwd()\n",
    "print(CURRENT_DIR)"
   ]
  },
  {
   "cell_type": "markdown",
   "id": "f0de5d89-1042-4611-929e-56efaba5e191",
   "metadata": {},
   "source": [
    "# ChEBI database\n",
    "From here https://ftp.ebi.ac.uk/pub/databases/chebi/ontology/ download chebi.obo and chebi.owl files"
   ]
  },
  {
   "cell_type": "code",
   "execution_count": 2,
   "id": "d3dd4d0e-ed27-45b6-ad21-e71692ab765d",
   "metadata": {},
   "outputs": [
    {
     "name": "stdout",
     "output_type": "stream",
     "text": [
      "Dimension for obo_owl: (559228, 2)\n",
      "               NaN  Empty  empty_list  Unique\n",
      "molecule_ID      0      0           0  200781\n",
      "molecule_name    0      0           0  559228\n"
     ]
    }
   ],
   "source": [
    "# # Read chebi.obo file and extract information\n",
    "with open(join(CURRENT_DIR, \"..\", \"data\", \"raw_data\",\"molecule_name_to_ids\", \"chebi.obo\"), 'r') as obo:\n",
    "    obo1=obo.read()\n",
    "    obo2=obo1.split(\"[Term]\")[1:]\n",
    "    id_pattern = r'id:\\s*([^\\s]+)'\n",
    "    name_pattern = r'name:\\s*([^\\n]+)'\n",
    "    synonym_pattern = r'synonym:\\s*\"([^\"]*)\"'\n",
    "    dict_obo={}\n",
    "    for term in obo2:\n",
    "        id_match = re.findall(id_pattern, term)[0]\n",
    "        name_match = re.findall(name_pattern, term)\n",
    "        synonym_matches = re.findall(synonym_pattern, term)\n",
    "        if synonym_matches:\n",
    "            names=list(set(name_match+synonym_matches))\n",
    "            for name in names:\n",
    "                dict_obo[name] = id_match\n",
    "        else:\n",
    "            dict_obo[name_match[0]] = id_match\n",
    "    obo_df = pd.DataFrame(list(dict_obo.items()), columns=['molecule_name', 'ChEBI_ID'])\n",
    "    obo_df.rename(columns={'ChEBI_ID': 'molecule_ID'}, inplace=True)\n",
    "    obo_df = obo_df[['molecule_ID', 'molecule_name']]\n",
    "    obo_df.reset_index(drop=True, inplace=True)\n",
    "\n",
    "with open(join(CURRENT_DIR, \"..\", \"data\", \"raw_data\",\"molecule_name_to_ids\", \"chebi.owl\"), 'r') as owl:\n",
    "    owl1=owl.read()\n",
    "    owl2=owl1.split(\"\\n\\n\\n\")\n",
    "    chebi_regex = r'<!--\\s*http:\\/\\/purl\\.obolibrary\\.org\\/obo\\/(CHEBI_\\d+)\\s*-->'\n",
    "    label_regex = r'<rdfs:label\\s+rdf:datatype=\"http:\\/\\/www\\.w3\\.org\\/2001\\/XMLSchema#string\">\\s*([^<]+)\\s*<\\/rdfs:label>'\n",
    "    dict_owl={}\n",
    "    for term in owl2:\n",
    "        chebi_match = re.findall(chebi_regex, term)\n",
    "        label_match = re.findall(label_regex, term)\n",
    "        if chebi_match and label_match:\n",
    "            dict_owl[label_match[0]] = chebi_match[0]\n",
    "    owl_df = pd.DataFrame(list(dict_owl.items()), columns=['molecule_name', 'ChEBI_ID'])\n",
    "    owl_df.rename(columns={'ChEBI_ID': 'molecule_ID'}, inplace=True)\n",
    "    owl_df['molecule_ID'] = owl_df['molecule_ID'].str.replace('_', ':')\n",
    "    owl_df = owl_df[['molecule_ID', 'molecule_name']]\n",
    "    obo_owl = pd.concat([obo_df, owl_df], ignore_index=True)\n",
    "    obo_owl.drop_duplicates(subset=['molecule_name'], keep='first', inplace=True)\n",
    "    obo_owl.reset_index(drop=True, inplace=True)\n",
    "    print(data_report(obo_owl))"
   ]
  },
  {
   "cell_type": "markdown",
   "id": "a56a306d-81d7-4d66-80f3-5db1ca4a9107",
   "metadata": {},
   "source": [
    "# HMDB database\n",
    "From here https://hmdb.ca/downloads download All Proteins(last update:2021-11-09)"
   ]
  },
  {
   "cell_type": "code",
   "execution_count": 3,
   "id": "afd18af4-550a-430c-974c-9a2ae78c4956",
   "metadata": {},
   "outputs": [
    {
     "name": "stdout",
     "output_type": "stream",
     "text": [
      "Dimension for HMDB: (33568, 2)\n"
     ]
    },
    {
     "data": {
      "text/html": [
       "<div>\n",
       "<style scoped>\n",
       "    .dataframe tbody tr th:only-of-type {\n",
       "        vertical-align: middle;\n",
       "    }\n",
       "\n",
       "    .dataframe tbody tr th {\n",
       "        vertical-align: top;\n",
       "    }\n",
       "\n",
       "    .dataframe thead th {\n",
       "        text-align: right;\n",
       "    }\n",
       "</style>\n",
       "<table border=\"1\" class=\"dataframe\">\n",
       "  <thead>\n",
       "    <tr style=\"text-align: right;\">\n",
       "      <th></th>\n",
       "      <th>NaN</th>\n",
       "      <th>Empty</th>\n",
       "      <th>empty_list</th>\n",
       "      <th>Unique</th>\n",
       "    </tr>\n",
       "  </thead>\n",
       "  <tbody>\n",
       "    <tr>\n",
       "      <th>Metabolite</th>\n",
       "      <td>0</td>\n",
       "      <td>0</td>\n",
       "      <td>0</td>\n",
       "      <td>33568</td>\n",
       "    </tr>\n",
       "    <tr>\n",
       "      <th>HMDB</th>\n",
       "      <td>0</td>\n",
       "      <td>0</td>\n",
       "      <td>0</td>\n",
       "      <td>33568</td>\n",
       "    </tr>\n",
       "  </tbody>\n",
       "</table>\n",
       "</div>"
      ],
      "text/plain": [
       "            NaN  Empty  empty_list  Unique\n",
       "Metabolite    0      0           0   33568\n",
       "HMDB          0      0           0   33568"
      ]
     },
     "execution_count": 3,
     "metadata": {},
     "output_type": "execute_result"
    }
   ],
   "source": [
    "#Parse the XML file\n",
    "tree = ET.parse(join(CURRENT_DIR, \"..\", \"data\", \"raw_data\",\"molecule_name_to_ids\", \"hmdb_proteins.xml\"))\n",
    "root = tree.getroot()\n",
    "\n",
    "# Initialize lists to store data\n",
    "data = {'Metabolite': [], 'HMDB': []}\n",
    "namespace = {'ns': 'http://www.hmdb.ca'}\n",
    "# Iterate through proteins in the XML tree\n",
    "for protein in root.findall('.//ns:protein', namespace):\n",
    "    protein_name = protein.find('.//ns:name', namespace).text\n",
    "    uniprot_id_element = protein.find('.//ns:uniprot_id', namespace)\n",
    "    uniprot_id = uniprot_id_element.text if uniprot_id_element is not None else None\n",
    "    polypeptide_sequence_element = protein.find('.//ns:protein_properties/ns:polypeptide_sequence', namespace)\n",
    "    protein_sequence = polypeptide_sequence_element.text if polypeptide_sequence_element is not None else None\n",
    "    if protein_sequence and protein_sequence.startswith('>'):\n",
    "        protein_sequence = protein_sequence.split('\\n', 1)[-1].replace('\\n', '')\n",
    "    substrate_elements = protein.findall('.//ns:metabolite_associations/ns:metabolite', namespace)\n",
    "    for substrate in substrate_elements:\n",
    "        substrate_name = substrate.find('.//ns:name', namespace).text\n",
    "        substrate_id = substrate.find('.//ns:accession', namespace).text\n",
    "        data['Metabolite'].append(substrate_name)\n",
    "        data['HMDB'].append(substrate_id)\n",
    "HMDB= pd.DataFrame(data)\n",
    "HMDB.drop_duplicates(subset=['HMDB'], inplace=True)\n",
    "HMDB.reset_index(drop=True, inplace=True)\n",
    "data_report(HMDB)"
   ]
  },
  {
   "cell_type": "markdown",
   "id": "66dc79f5-4373-4fcb-8c92-ea05c10e37ab",
   "metadata": {},
   "source": [
    "# SMPDB database\n",
    "From here  https://smpdb.ca/downloads download Metabolite names linked to SMPDB pathways CSV (includes KEGG and ChEBI IDs)"
   ]
  },
  {
   "cell_type": "code",
   "execution_count": 4,
   "id": "96c3f64e-6f17-4e66-9570-87c23593d12b",
   "metadata": {},
   "outputs": [
    {
     "name": "stdout",
     "output_type": "stream",
     "text": [
      "Dimension for smpdb: (53201, 15)\n",
      "                   NaN  Empty  empty_list  Unique\n",
      "SMPDB ID             0      0           0   45538\n",
      "Pathway Name         0      0           0   45538\n",
      "Pathway Subject      0      0           0       6\n",
      "Metabolite ID        0      0           0   53201\n",
      "Metabolite Name      0      0           0   53201\n",
      "HMDB ID              1      0           0   53200\n",
      "KEGG ID          10559      0           0    1310\n",
      "ChEBI ID         23831      0           0    1541\n",
      "DrugBank ID      51716      0           0     637\n",
      "CAS              51781      0           0    1411\n",
      "Formula             40      0           0    2551\n",
      "IUPAC             5921      0           0   47241\n",
      "SMILES              45      0           0   52712\n",
      "InChI               44      0           0   53145\n",
      "InChI Key           40      0           0   53149\n"
     ]
    }
   ],
   "source": [
    "# List all CSV files in the directory\n",
    "csv_files = glob.glob(join(CURRENT_DIR, \"..\", \"data\", \"raw_data\",\"molecule_name_to_ids\", \"smpdb_metabolites.csv\", \"*.csv\"))\n",
    "df_list = []\n",
    "for i, file in enumerate(csv_files):\n",
    "    try:\n",
    "        if i == 0:\n",
    "            df = pd.read_csv(file, on_bad_lines='skip')\n",
    "        else:\n",
    "            df = pd.read_csv(file, header=0, on_bad_lines='skip')\n",
    "        df_list.append(df)\n",
    "    except pd.errors.ParserError as e:\n",
    "        print(f\"Error parsing {file}: {e}\")\n",
    "smpdb = pd.concat(df_list, ignore_index=True)\n",
    "smpdb.reset_index(drop=True, inplace=True)\n",
    "smpdb['ChEBI ID'] = smpdb['ChEBI ID'].apply(lambda x: f'CHEBI:{int(x)}' if pd.notna(x) and str(x).replace('.', '').isdigit() else x)\n",
    "smpdb.drop_duplicates(subset=['HMDB ID'], inplace=True)\n",
    "print(data_report(smpdb))\n",
    "HMDB.rename(columns={'HMDB': 'HMDB_ID', 'Metabolite': 'molecule_name'}, inplace=True)\n",
    "smpdb.rename(columns={'HMDB ID': 'HMDB_ID', 'Metabolite Name': 'molecule_name'}, inplace=True)\n",
    "HMDB = HMDB[['HMDB_ID', 'molecule_name']]\n",
    "smpdb2 = smpdb[['HMDB_ID', 'molecule_name']]\n",
    "smpdb_hmdb = pd.concat([smpdb2,HMDB], ignore_index=True)\n",
    "smpdb_hmdb.drop_duplicates(subset=['HMDB_ID'], keep='first', inplace=True)\n",
    "smpdb_hmdb.reset_index(drop=True, inplace=True)"
   ]
  },
  {
   "cell_type": "markdown",
   "id": "874047f6-8714-4dfd-9817-f2135833069a",
   "metadata": {},
   "source": [
    "Use https://www.metaboanalyst.ca/MetaboAnalyst/upload/ConvertView.xhtml to map HMDB IDs to othe molecule IDs"
   ]
  },
  {
   "cell_type": "code",
   "execution_count": 5,
   "id": "dcdbd49e-2cf5-47ae-a57f-c2b9f548a2db",
   "metadata": {},
   "outputs": [],
   "source": [
    "\"\"\"\n",
    "smpdb_hmdb['HMDB_ID'][:10000].to_csv(join(CURRENT_DIR, \"..\", \"data\", \"raw_data\",\"molecule_name_to_ids\",  \"HMDB_ID_1.txt\"), index=False, header=False)\n",
    "smpdb_hmdb['HMDB_ID'][10000:20000].to_csv(join(CURRENT_DIR, \"..\", \"data\", \"raw_data\",\"molecule_name_to_ids\",  \"HMDB_ID_2.txt\"), index=False, header=False)\n",
    "smpdb_hmdb['HMDB_ID'][20000:30000].to_csv(join(CURRENT_DIR, \"..\", \"data\", \"raw_data\",\"molecule_name_to_ids\",  \"HMDB_ID_3.txt\"), index=False, header=False)\n",
    "smpdb_hmdb['HMDB_ID'][30000:40000].to_csv(join(CURRENT_DIR, \"..\", \"data\", \"raw_data\",\"molecule_name_to_ids\",  \"HMDB_ID_4.txt\"), index=False, header=False)\n",
    "smpdb_hmdb['HMDB_ID'][40000:50000].to_csv(join(CURRENT_DIR, \"..\", \"data\", \"raw_data\",\"molecule_name_to_ids\",  \"HMDB_ID_5.txt\"), index=False, header=False)\n",
    "smpdb_hmdb['HMDB_ID'][50000:60000].to_csv(join(CURRENT_DIR, \"..\", \"data\", \"raw_data\",\"molecule_name_to_ids\",  \"HMDB_ID_6.txt\"), index=False, header=False)\n",
    "smpdb_hmdb['HMDB_ID'][60000:].to_csv(join(CURRENT_DIR, \"..\", \"data\", \"raw_data\",\"molecule_name_to_ids\",  \"HMDB_ID_7.txt\"), index=False, header=False)\n",
    "\"\"\";"
   ]
  },
  {
   "cell_type": "code",
   "execution_count": 6,
   "id": "a72ce261-6361-43c1-a814-7458ac2afea1",
   "metadata": {},
   "outputs": [],
   "source": [
    "id_df1 = pd.read_csv(join(CURRENT_DIR, \"..\", \"data\", \"raw_data\",\"molecule_name_to_ids\",  \"HMDB_map_1.csv\"))\n",
    "id_df2 = pd.read_csv(join(CURRENT_DIR, \"..\", \"data\", \"raw_data\",\"molecule_name_to_ids\",  \"HMDB_map_2.csv\"))\n",
    "id_df3 = pd.read_csv(join(CURRENT_DIR, \"..\", \"data\", \"raw_data\",\"molecule_name_to_ids\",  \"HMDB_map_3.csv\"))\n",
    "id_df4 = pd.read_csv(join(CURRENT_DIR, \"..\", \"data\", \"raw_data\",\"molecule_name_to_ids\",  \"HMDB_map_4.csv\"))\n",
    "id_df5 = pd.read_csv(join(CURRENT_DIR, \"..\", \"data\", \"raw_data\",\"molecule_name_to_ids\",  \"HMDB_map_5.csv\"))\n",
    "id_df6 = pd.read_csv(join(CURRENT_DIR, \"..\", \"data\", \"raw_data\",\"molecule_name_to_ids\",  \"HMDB_map_6.csv\"))\n",
    "id_df7 = pd.read_csv(join(CURRENT_DIR, \"..\", \"data\", \"raw_data\",\"molecule_name_to_ids\",  \"HMDB_map_7.csv\"))\n",
    "smpdb_hmdb2 = pd.concat([id_df1, id_df2,id_df3,id_df4,id_df5,id_df6,id_df7], ignore_index=True)\n",
    "smpdb_hmdb2.drop_duplicates(subset=['Query'], keep='first', inplace=True)\n",
    "smpdb_hmdb2.reset_index(drop=True, inplace=True)"
   ]
  },
  {
   "cell_type": "code",
   "execution_count": 7,
   "id": "3e3dc85d-c39f-4ea9-a220-8b7c14c76d6b",
   "metadata": {},
   "outputs": [
    {
     "name": "stdout",
     "output_type": "stream",
     "text": [
      "Dimension for smpdb_hmdb2: (61237, 9)\n",
      "           NaN  Empty  empty_list  Unique\n",
      "Query        0      0           0   61237\n",
      "Match     9591      0           0   51646\n",
      "HMDB      9591      0           0   51646\n",
      "PubChem  18437      0           0   42404\n",
      "ChEBI    58899      0           0    2327\n",
      "KEGG     57811      0           0     964\n",
      "METLIN   60606      0           0     625\n",
      "SMILES    9591      0           0   51331\n",
      "Comment      0      0           0       2\n",
      "Dimension for smpdb_hmdb2: (61237, 9)\n",
      "           NaN  Empty  empty_list  Unique\n",
      "Query        0      0           0   61237\n",
      "Match     9591      0           0   51646\n",
      "HMDB      9591      0           0   51646\n",
      "PubChem  18437      0           0   42404\n",
      "ChEBI    26136      0           0    2360\n",
      "KEGG     15090      0           0     973\n",
      "METLIN   60606      0           0     625\n",
      "SMILES    9591      0           0   51331\n",
      "Comment      0      0           0       2\n"
     ]
    }
   ],
   "source": [
    "smpdb_hmdb2['ChEBI'] = smpdb_hmdb2['ChEBI'].apply(lambda x: f'CHEBI:{int(x)}' if pd.notna(x) and str(x).replace('.', '').isdigit() else x)\n",
    "smpdb_hmdb2['PubChem'] = smpdb_hmdb2['PubChem'].round().astype('Int64')\n",
    "print(data_report(smpdb_hmdb2))\n",
    "\n",
    "# Create a mapping dictionary from smpdb based on HMDB_ID and ChEBI ID\n",
    "smpdb_ch= smpdb.dropna(subset=[\"ChEBI ID\"])\n",
    "smpdb_k = smpdb.dropna(subset=[\"KEGG ID\"])\n",
    "hmdb_to_chebi = smpdb_ch.set_index('HMDB_ID')['ChEBI ID'].to_dict()\n",
    "hmdb_to_kegg = smpdb_k.set_index('HMDB_ID')['KEGG ID'].to_dict()\n",
    "\n",
    "# Fill NaN values in id_df['ChEBI'] using the mapping\n",
    "smpdb_hmdb2['ChEBI'] = smpdb_hmdb2['ChEBI'].fillna(smpdb_hmdb2['HMDB'].map(hmdb_to_chebi))\n",
    "smpdb_hmdb2['KEGG'] = smpdb_hmdb2['KEGG'].fillna(smpdb_hmdb2['HMDB'].map(hmdb_to_kegg))\n",
    "\n",
    "\n",
    "print(data_report(smpdb_hmdb2))"
   ]
  },
  {
   "cell_type": "code",
   "execution_count": 8,
   "id": "1a8be20d-aa95-49b4-aa49-4bcf8ee63d69",
   "metadata": {},
   "outputs": [
    {
     "name": "stdout",
     "output_type": "stream",
     "text": [
      "Dimension for smpdb_hmdb2: (51616, 2)\n",
      "               NaN  Empty  empty_list  Unique\n",
      "molecule_ID      0      0           0   17102\n",
      "molecule_name    0      0           0   51616\n"
     ]
    }
   ],
   "source": [
    "smpdb_hmdb2['molecule_ID'] = [\n",
    "    row['ChEBI'] if pd.notnull(row['ChEBI']) else\n",
    "    row['KEGG'] if pd.notnull(row['KEGG']) else\n",
    "    row['PubChem']\n",
    "    for index, row in smpdb_hmdb2.iterrows()\n",
    "]\n",
    "\n",
    "smpdb_hmdb2 = smpdb_hmdb2.dropna(subset=[\"molecule_ID\"])\n",
    "smpdb_hmdb2 = smpdb_hmdb2.dropna(subset=[\"Match\"])\n",
    "smpdb_hmdb2.reset_index(drop=True, inplace=True)\n",
    "smpdb_hmdb2 = smpdb_hmdb2[['molecule_ID', 'Match']]\n",
    "smpdb_hmdb2.rename(columns={'Match': 'molecule_name'}, inplace=True)\n",
    "smpdb_hmdb2.to_pickle(join(CURRENT_DIR, \"..\", \"data\", \"raw_data\",\"molecule_name_to_ids\", \"smpdb_hmdb.pkl\"))\n",
    "print(data_report(smpdb_hmdb2))"
   ]
  },
  {
   "cell_type": "markdown",
   "id": "23ea92b2-d906-449e-8f15-d32e07b43d83",
   "metadata": {},
   "source": [
    "# ChEMBL Database\n",
    "From here https://chembl.gitbook.io/chembl-interface-documentation/frequently-asked-questions/general-questions download source mapping files on the FTP website. Save the data in raw_data folder within subfolder name \"map_chembl_to_other_ids\""
   ]
  },
  {
   "cell_type": "code",
   "execution_count": 9,
   "id": "892a1fe9-b85f-4967-8c54-22276a39f9f9",
   "metadata": {},
   "outputs": [],
   "source": [
    "chembl2chebi = pd.read_csv(\n",
    "    join(CURRENT_DIR, \"..\", \"data\", \"raw_data\", \"map_chembl_to_other_ids\", \"src1src7.txt\"),\n",
    "    sep='\\t',\n",
    "    header=None,\n",
    "    names=[\"chembel_ID\", \"molecule_ID\"],skiprows=1\n",
    ")\n",
    "chembl = pd.read_csv(\n",
    "    join(CURRENT_DIR, \"..\", \"data\", \"raw_data\", \"map_chembl_to_other_ids\", \"src1src12.txt\"),\n",
    "    sep='\\t',\n",
    "    header=None,\n",
    "    names=[\"chembel_ID\", \"molecule_name\"],skiprows=1\n",
    ")\n",
    "chembl2chebi_dict=chembl2chebi.set_index(\"chembel_ID\")[\"molecule_ID\"].to_dict()\n",
    "chembl[\"molecule_ID\"]=chembl[\"chembel_ID\"].map(chembl2chebi_dict)\n",
    "chembl.dropna(subset=[\"molecule_ID\"], inplace=True)\n",
    "chembl['molecule_ID'] = chembl['molecule_ID'].apply(lambda x: f'CHEBI:{int(x)}' if pd.notna(x) and str(x).replace('.', '').isdigit() else x)\n",
    "chembl = chembl[['molecule_ID', 'molecule_name']]\n",
    "chembl.reset_index(drop=True, inplace=True)"
   ]
  },
  {
   "cell_type": "markdown",
   "id": "f5dc443e-5be7-4fd7-acbc-593fcf5df306",
   "metadata": {},
   "source": [
    "# KEGG Database"
   ]
  },
  {
   "cell_type": "markdown",
   "id": "196012c9-45aa-43ab-b91c-8ed43fd596b3",
   "metadata": {},
   "source": [
    "This two files was taken from ESP repository\n",
    "https://github.com/AlexanderKroll/ESP/tree/main/data/substrate_data"
   ]
  },
  {
   "cell_type": "code",
   "execution_count": 10,
   "id": "ab8f1756-db21-4b43-b818-fe6f32845827",
   "metadata": {},
   "outputs": [],
   "source": [
    "esp_kegg_drug=pd.read_pickle((join(CURRENT_DIR, \"..\", \"data\", \"raw_data\", \"KEGG_drugs_df.pkl\")))\n",
    "esp_kegg_sub=pd.read_pickle((join(CURRENT_DIR, \"..\", \"data\", \"raw_data\", \"KEGG_substrate_df.pkl\")))"
   ]
  },
  {
   "cell_type": "markdown",
   "id": "2a59dd64-15f5-498d-be92-2f86552061af",
   "metadata": {},
   "source": [
    "Run below code"
   ]
  },
  {
   "cell_type": "code",
   "execution_count": 11,
   "id": "085a348e-3bc0-4b4c-a0ef-f9358b8dedb0",
   "metadata": {},
   "outputs": [
    {
     "name": "stdout",
     "output_type": "stream",
     "text": [
      "  % Total    % Received % Xferd  Average Speed   Time    Time     Time  Current\n",
      "                                 Dload  Upload   Total   Spent    Left  Speed\n",
      "100  948k    0  948k    0     0   128k      0 --:--:--  0:00:07 --:--:--  213k\n",
      "  % Total    % Received % Xferd  Average Speed   Time    Time     Time  Current\n",
      "                                 Dload  Upload   Total   Spent    Left  Speed\n",
      "100  580k    0  580k    0     0   117k      0 --:--:--  0:00:04 --:--:--  160k9k      0 --:--:--  0:00:04 --:--:--  109k\n"
     ]
    }
   ],
   "source": [
    "!curl https://rest.kegg.jp/list/compound > ./../data/raw_data/molecule_name_to_ids/compound_list.txt\n",
    "!curl https://rest.kegg.jp/list/drug > ./../data/raw_data/molecule_name_to_ids/drug_list.txt"
   ]
  },
  {
   "cell_type": "code",
   "execution_count": 12,
   "id": "5520f77f-14cb-489c-9084-4924e486a5ed",
   "metadata": {},
   "outputs": [],
   "source": [
    "kegg_com = pd.read_csv(\n",
    "    join(CURRENT_DIR, \"..\", \"data\", \"raw_data\", \"molecule_name_to_ids\", \"compound_list.txt\"),\n",
    "    sep='\\t',\n",
    "    header=None,\n",
    "    names=[\"KEGG ID\", \"substrate\"]\n",
    ")\n",
    "kegg_drug = pd.read_csv(\n",
    "    join(CURRENT_DIR, \"..\", \"data\", \"raw_data\", \"molecule_name_to_ids\", \"drug_list.txt\"),\n",
    "    sep='\\t',\n",
    "    header=None,\n",
    "    names=[\"KEGG ID\", \"substrate\"]\n",
    ")\n",
    "kegg = pd.concat([esp_kegg_drug, esp_kegg_sub,kegg_com,kegg_drug], ignore_index=True)\n",
    "kegg.drop_duplicates(subset=['KEGG ID'], keep='first', inplace=True)"
   ]
  },
  {
   "cell_type": "markdown",
   "id": "b80488a9-eb58-47d8-ad4b-12e1de7c360f",
   "metadata": {},
   "source": [
    "Use https://www.metaboanalyst.ca/MetaboAnalyst/upload/ConvertView.xhtml to map HMDB IDs to othe molecule IDs"
   ]
  },
  {
   "cell_type": "code",
   "execution_count": 13,
   "id": "d4d30b89-6be6-4974-a51c-8c9c4a2bb8c0",
   "metadata": {},
   "outputs": [],
   "source": [
    "kegg['KEGG ID'].to_csv(join(CURRENT_DIR, \"..\", \"data\", \"raw_data\",\"molecule_name_to_ids\",  \"KEGG_ID.txt\"), index=False, header=False)\n",
    "kegg_map = pd.read_csv(join(CURRENT_DIR, \"..\", \"data\", \"raw_data\", \"molecule_name_to_ids\", \"KEGG_map.csv\"))\n",
    "kegg_map['ChEBI'] = kegg_map['ChEBI'].str.split().str[0]\n",
    "kegg_map['ChEBI'] = kegg_map['ChEBI'].apply(lambda x: f'CHEBI:{int(x)}' if pd.notna(x) and str(x).replace('.', '').isdigit() else x)\n",
    "kegg_map.dropna(subset=['ChEBI'], inplace=True)\n",
    "kegg_chebi_dict=kegg_map.set_index('Query')[\"ChEBI\"].to_dict()\n",
    "kegg['ChEBI'] = kegg['KEGG ID'].map(kegg_chebi_dict)\n",
    "\n",
    "kegg['molecule_ID'] = [\n",
    "    row['ChEBI'] if pd.notnull(row['ChEBI']) else\n",
    "    row['KEGG ID']\n",
    "    for index, row in kegg.iterrows()\n",
    "]\n",
    "\n",
    "kegg.reset_index(drop=True, inplace=True)"
   ]
  },
  {
   "cell_type": "markdown",
   "id": "b7f9c925-75f2-483a-800c-e5fbb9855abe",
   "metadata": {},
   "source": [
    "Expand rows for a kegg id with  multiple molecule names"
   ]
  },
  {
   "cell_type": "code",
   "execution_count": 14,
   "id": "b42dbd41-febc-4963-989f-305a778cf445",
   "metadata": {},
   "outputs": [],
   "source": [
    "\n",
    "kegg['substrate'] = kegg['substrate'].str.split(';')\n",
    "kegg_expanded = kegg.explode('substrate')\n",
    "# Strip whitespace from names\n",
    "kegg_expanded['substrate'] = kegg_expanded['substrate'].str.strip()\n",
    "kegg_expanded = kegg_expanded[['molecule_ID', 'substrate']]\n",
    "kegg_expanded.rename(columns={'substrate': 'molecule_name'}, inplace=True)"
   ]
  },
  {
   "cell_type": "markdown",
   "id": "55e4a229-8174-4e70-9730-957ab37ce3ac",
   "metadata": {},
   "source": [
    "# Pooling all data"
   ]
  },
  {
   "cell_type": "code",
   "execution_count": 15,
   "id": "be62dcf9-859b-44a8-a8b8-cba901ed35d6",
   "metadata": {},
   "outputs": [
    {
     "name": "stdout",
     "output_type": "stream",
     "text": [
      "Dimension for mol2ids: (626578, 2)\n",
      "               NaN  Empty  empty_list  Unique\n",
      "molecule_ID      0      0           0  236594\n",
      "molecule_name    1      0           0  610608\n"
     ]
    }
   ],
   "source": [
    "mol2ids = pd.concat([kegg_expanded, smpdb_hmdb2,obo_owl,chembl], ignore_index=True)\n",
    "mol2ids.drop_duplicates(subset=['molecule_name'], keep='first', inplace=True)\n",
    "mol2ids.dropna(subset=['molecule_name'])\n",
    "mol2ids.reset_index(drop=True, inplace=True)\n",
    "mol2ids[\"molecule_name\"] = [str(name).lower() if pd.notna(name) else name for name in mol2ids[\"molecule_name\"]]\n",
    "mol2ids.to_pickle(join(CURRENT_DIR, \"..\", \"data\", \"raw_data\",\"molecule_name_to_ids\", \"mol2ids.pkl\"))\n",
    "print(data_report(mol2ids))"
   ]
  },
  {
   "cell_type": "markdown",
   "id": "7e89a1b9-20d5-4611-bdb3-0a250572a5d6",
   "metadata": {},
   "source": [
    "Since each molecule has more than one name the number of molecule names are higher than number of molecule Ids. In another word, one molecule Id mapped to many names."
   ]
  },
  {
   "cell_type": "code",
   "execution_count": null,
   "id": "d1e30977-e5ec-47e4-bfde-c975f8864f48",
   "metadata": {},
   "outputs": [],
   "source": []
  }
 ],
 "metadata": {
  "kernelspec": {
   "display_name": "Python 3 (ipykernel)",
   "language": "python",
   "name": "python3"
  },
  "language_info": {
   "codemirror_mode": {
    "name": "ipython",
    "version": 3
   },
   "file_extension": ".py",
   "mimetype": "text/x-python",
   "name": "python",
   "nbconvert_exporter": "python",
   "pygments_lexer": "ipython3",
   "version": "3.12.0"
  }
 },
 "nbformat": 4,
 "nbformat_minor": 5
}
